{
  "nbformat": 4,
  "nbformat_minor": 0,
  "metadata": {
    "colab": {
      "provenance": []
    },
    "kernelspec": {
      "display_name": "Python 3",
      "name": "python3"
    },
    "language_info": {
      "name": "python"
    },
    "widgets": {
      "application/vnd.jupyter.widget-state+json": {
        "322b514beb794d838ff694490b906f81": {
          "model_module": "@jupyter-widgets/controls",
          "model_name": "HBoxModel",
          "state": {
            "_view_name": "HBoxView",
            "_dom_classes": [],
            "_model_name": "HBoxModel",
            "_view_module": "@jupyter-widgets/controls",
            "_model_module_version": "1.5.0",
            "_view_count": null,
            "_view_module_version": "1.5.0",
            "box_style": "",
            "layout": "IPY_MODEL_7043a9e7436e4d85b36c2c782394935f",
            "_model_module": "@jupyter-widgets/controls",
            "children": [
              "IPY_MODEL_59965876af6f4479832a1a769e571de7",
              "IPY_MODEL_a4172f27a6d343d9897185513847a3ac"
            ]
          },
          "model_module_version": "1.5.0"
        },
        "7043a9e7436e4d85b36c2c782394935f": {
          "model_module": "@jupyter-widgets/base",
          "model_name": "LayoutModel",
          "state": {
            "_view_name": "LayoutView",
            "grid_template_rows": null,
            "right": null,
            "justify_content": null,
            "_view_module": "@jupyter-widgets/base",
            "overflow": null,
            "_model_module_version": "1.2.0",
            "_view_count": null,
            "flex_flow": null,
            "width": null,
            "min_width": null,
            "border": null,
            "align_items": null,
            "bottom": null,
            "_model_module": "@jupyter-widgets/base",
            "top": null,
            "grid_column": null,
            "overflow_y": null,
            "overflow_x": null,
            "grid_auto_flow": null,
            "grid_area": null,
            "grid_template_columns": null,
            "flex": null,
            "_model_name": "LayoutModel",
            "justify_items": null,
            "grid_row": null,
            "max_height": null,
            "align_content": null,
            "visibility": null,
            "align_self": null,
            "height": null,
            "min_height": null,
            "padding": null,
            "grid_auto_rows": null,
            "grid_gap": null,
            "max_width": null,
            "order": null,
            "_view_module_version": "1.2.0",
            "grid_template_areas": null,
            "object_position": null,
            "object_fit": null,
            "grid_auto_columns": null,
            "margin": null,
            "display": null,
            "left": null
          },
          "model_module_version": "1.2.0"
        },
        "59965876af6f4479832a1a769e571de7": {
          "model_module": "@jupyter-widgets/controls",
          "model_name": "FloatProgressModel",
          "state": {
            "_view_name": "ProgressView",
            "style": "IPY_MODEL_b219073daa004cc4a12cecfda8184692",
            "_dom_classes": [],
            "description": "100%",
            "_model_name": "FloatProgressModel",
            "bar_style": "success",
            "max": 100,
            "_view_module": "@jupyter-widgets/controls",
            "_model_module_version": "1.5.0",
            "value": 100,
            "_view_count": null,
            "_view_module_version": "1.5.0",
            "orientation": "horizontal",
            "min": 0,
            "description_tooltip": null,
            "_model_module": "@jupyter-widgets/controls",
            "layout": "IPY_MODEL_0632091313a34f7a922609f8262fd992"
          },
          "model_module_version": "1.5.0"
        },
        "a4172f27a6d343d9897185513847a3ac": {
          "model_module": "@jupyter-widgets/controls",
          "model_name": "HTMLModel",
          "state": {
            "_view_name": "HTMLView",
            "style": "IPY_MODEL_173a1ea38858433ea01731feb9cbdedf",
            "_dom_classes": [],
            "description": "",
            "_model_name": "HTMLModel",
            "placeholder": "​",
            "_view_module": "@jupyter-widgets/controls",
            "_model_module_version": "1.5.0",
            "value": " 100/100 [02:31&lt;00:00,  1.51s/it]",
            "_view_count": null,
            "_view_module_version": "1.5.0",
            "description_tooltip": null,
            "_model_module": "@jupyter-widgets/controls",
            "layout": "IPY_MODEL_46028bd08e134d54af2404f53e9201c5"
          },
          "model_module_version": "1.5.0"
        },
        "b219073daa004cc4a12cecfda8184692": {
          "model_module": "@jupyter-widgets/controls",
          "model_name": "ProgressStyleModel",
          "state": {
            "_view_name": "StyleView",
            "_model_name": "ProgressStyleModel",
            "description_width": "initial",
            "_view_module": "@jupyter-widgets/base",
            "_model_module_version": "1.5.0",
            "_view_count": null,
            "_view_module_version": "1.2.0",
            "bar_color": null,
            "_model_module": "@jupyter-widgets/controls"
          },
          "model_module_version": "1.5.0"
        },
        "0632091313a34f7a922609f8262fd992": {
          "model_module": "@jupyter-widgets/base",
          "model_name": "LayoutModel",
          "state": {
            "_view_name": "LayoutView",
            "grid_template_rows": null,
            "right": null,
            "justify_content": null,
            "_view_module": "@jupyter-widgets/base",
            "overflow": null,
            "_model_module_version": "1.2.0",
            "_view_count": null,
            "flex_flow": null,
            "width": null,
            "min_width": null,
            "border": null,
            "align_items": null,
            "bottom": null,
            "_model_module": "@jupyter-widgets/base",
            "top": null,
            "grid_column": null,
            "overflow_y": null,
            "overflow_x": null,
            "grid_auto_flow": null,
            "grid_area": null,
            "grid_template_columns": null,
            "flex": null,
            "_model_name": "LayoutModel",
            "justify_items": null,
            "grid_row": null,
            "max_height": null,
            "align_content": null,
            "visibility": null,
            "align_self": null,
            "height": null,
            "min_height": null,
            "padding": null,
            "grid_auto_rows": null,
            "grid_gap": null,
            "max_width": null,
            "order": null,
            "_view_module_version": "1.2.0",
            "grid_template_areas": null,
            "object_position": null,
            "object_fit": null,
            "grid_auto_columns": null,
            "margin": null,
            "display": null,
            "left": null
          },
          "model_module_version": "1.2.0"
        },
        "173a1ea38858433ea01731feb9cbdedf": {
          "model_module": "@jupyter-widgets/controls",
          "model_name": "DescriptionStyleModel",
          "state": {
            "_view_name": "StyleView",
            "_model_name": "DescriptionStyleModel",
            "description_width": "",
            "_view_module": "@jupyter-widgets/base",
            "_model_module_version": "1.5.0",
            "_view_count": null,
            "_view_module_version": "1.2.0",
            "_model_module": "@jupyter-widgets/controls"
          },
          "model_module_version": "1.5.0"
        },
        "46028bd08e134d54af2404f53e9201c5": {
          "model_module": "@jupyter-widgets/base",
          "model_name": "LayoutModel",
          "state": {
            "_view_name": "LayoutView",
            "grid_template_rows": null,
            "right": null,
            "justify_content": null,
            "_view_module": "@jupyter-widgets/base",
            "overflow": null,
            "_model_module_version": "1.2.0",
            "_view_count": null,
            "flex_flow": null,
            "width": null,
            "min_width": null,
            "border": null,
            "align_items": null,
            "bottom": null,
            "_model_module": "@jupyter-widgets/base",
            "top": null,
            "grid_column": null,
            "overflow_y": null,
            "overflow_x": null,
            "grid_auto_flow": null,
            "grid_area": null,
            "grid_template_columns": null,
            "flex": null,
            "_model_name": "LayoutModel",
            "justify_items": null,
            "grid_row": null,
            "max_height": null,
            "align_content": null,
            "visibility": null,
            "align_self": null,
            "height": null,
            "min_height": null,
            "padding": null,
            "grid_auto_rows": null,
            "grid_gap": null,
            "max_width": null,
            "order": null,
            "_view_module_version": "1.2.0",
            "grid_template_areas": null,
            "object_position": null,
            "object_fit": null,
            "grid_auto_columns": null,
            "margin": null,
            "display": null,
            "left": null
          },
          "model_module_version": "1.2.0"
        }
      }
    }
  },
  "cells": [
    {
      "cell_type": "code",
      "metadata": {
        "colab": {
          "base_uri": "https://localhost:8080/",
          "height": 99,
          "referenced_widgets": [
            "322b514beb794d838ff694490b906f81",
            "7043a9e7436e4d85b36c2c782394935f",
            "59965876af6f4479832a1a769e571de7",
            "a4172f27a6d343d9897185513847a3ac",
            "b219073daa004cc4a12cecfda8184692",
            "0632091313a34f7a922609f8262fd992",
            "173a1ea38858433ea01731feb9cbdedf",
            "46028bd08e134d54af2404f53e9201c5"
          ]
        },
        "id": "gYy2gu1k2Y-6",
        "outputId": "21511529-84f3-4b06-d340-6d8407b41ad6"
      },
      "source": [
        "#@title Run this to import random bios { display-mode: \"form\" }\n",
        "\n",
        "import requests\n",
        "import pandas as pd\n",
        "import time\n",
        "import random\n",
        "import re\n",
        "import numpy as np\n",
        "import _pickle as pickle\n",
        "from tqdm import tqdm_notebook as tqdm\n",
        "from bs4 import BeautifulSoup as bs\n",
        "\n",
        "\n",
        "## Using BeautifulSoup\n",
        "\n",
        "# Randomizing the refresh rate\n",
        "seq = [i/10 for i in range(8,18)]\n",
        "\n",
        "# Creating a list of bios\n",
        "biolist = []\n",
        "\n",
        "# Gathering bios by looping and refreshing the web page\n",
        "for _ in tqdm(range(100)):\n",
        "    \n",
        "    # Refreshing the page\n",
        "    page = requests.get(\"https://www.fakepersongenerator.com/user-biography-generator?new=refresh\")\n",
        "    soup = bs(page.content)\n",
        "    \n",
        "    try:\n",
        "        # Getting the bios\n",
        "        bios = soup.find('div', class_='row no-margin for-sign').find_all('p')\n",
        "\n",
        "        # Adding to a list of the bios\n",
        "        biolist.extend([re.findall('\"([^\"]*)\"', i.text) for i in bios])\n",
        "    except:\n",
        "        pass\n",
        "    \n",
        "    # Sleeping \n",
        "    time.sleep(random.choice(seq))\n",
        "    \n",
        "# Creating a DF from the bio list\n",
        "bio_df = pd.DataFrame(biolist, columns=['Bios'])"
      ],
      "execution_count": null,
      "outputs": [
        {
          "output_type": "stream",
          "text": [
            "/usr/local/lib/python3.7/dist-packages/ipykernel_launcher.py:23: TqdmDeprecationWarning: This function will be removed in tqdm==5.0.0\n",
            "Please use `tqdm.notebook.tqdm` instead of `tqdm.tqdm_notebook`\n"
          ],
          "name": "stderr"
        },
        {
          "output_type": "display_data",
          "data": {
            "application/vnd.jupyter.widget-view+json": {
              "model_id": "322b514beb794d838ff694490b906f81",
              "version_minor": 0,
              "version_major": 2
            },
            "text/plain": [
              "HBox(children=(FloatProgress(value=0.0), HTML(value='')))"
            ]
          },
          "metadata": {
            "tags": []
          }
        },
        {
          "output_type": "stream",
          "text": [
            "\n"
          ],
          "name": "stdout"
        }
      ]
    },
    {
      "cell_type": "code",
      "metadata": {
        "id": "AKLJnJGKppyH"
      },
      "source": [
        "#@title More stuff on adding topics to our profiles (1-10 for how much you are interested in each topic) { display-mode: \"form\" }\n",
        "length=len(bio_df)\n",
        "ageList=[]\n",
        "genderList=[]\n",
        "topics=['Movies', 'Video Games', 'Politics']\n",
        "topicsList=[]\n",
        "for i in range(length):\n",
        "  ageList.append(random.randint(13, 25))\n",
        "  genderList.append(random.randint(0, 1))\n",
        "  topicsList.append([random.randint(1, 10), \n",
        "                     random.randint(1, 10), random.randint(1, 10)])\n",
        "\n",
        "age_df = pd.DataFrame(ageList, columns=['Age'])\n",
        "gender_df = pd.DataFrame(genderList, columns=['Gender'])\n",
        "topics_df = pd.DataFrame(topicsList, columns=topics)\n",
        "\n",
        "df=bio_df.join(age_df).join(gender_df).join(topics_df)\n",
        "\n"
      ],
      "execution_count": null,
      "outputs": []
    },
    {
      "cell_type": "code",
      "metadata": {
        "colab": {
          "base_uri": "https://localhost:8080/"
        },
        "id": "rdvYl0UMNMQC",
        "outputId": "3630c9a1-32e3-4f0e-a502-57d2f0e769ab"
      },
      "source": [
        "print(df.head().to_markdown())"
      ],
      "execution_count": null,
      "outputs": [
        {
          "output_type": "stream",
          "text": [
            "|    | Bios                                                                                                                                                  |   Age |   Gender |   Movies |   Video Games |   Politics |\n",
            "|---:|:------------------------------------------------------------------------------------------------------------------------------------------------------|------:|---------:|---------:|--------------:|-----------:|\n",
            "|  0 | Passionate student. Freelance web geek. Amateur music enthusiast. Incurable social media scholar.                                                     |    19 |        0 |       10 |             6 |          2 |\n",
            "|  1 | Problem solver. Social media trailblazer. Wannabe travelaholic. Subtly charming analyst. Coffee ninja.                                                |    24 |        1 |        8 |             4 |          3 |\n",
            "|  2 | Extreme bacon buff. Organizer. Evil pop culture practitioner. Beer nerd. Writer. Lifelong web scholar. Freelance zombie fan. Subtly charming student. |    14 |        0 |        4 |             7 |          6 |\n",
            "|  3 | Incurable analyst. Coffee buff. Passionate zombie nerd. Freelance alcohol fanatic.                                                                    |    16 |        0 |        4 |             6 |         10 |\n",
            "|  4 | Travel ninja. Creator. Typical writer. Hipster-friendly explorer. Social media enthusiast. Total thinker. Tv maven.                                   |    23 |        1 |        3 |             1 |          6 |\n"
          ],
          "name": "stdout"
        }
      ]
    },
    {
      "cell_type": "code",
      "metadata": {
        "id": "sOImNVJPZZ3x"
      },
      "source": [
        "#@title teach the computer english\n",
        "import re\n",
        "import gdown\n",
        "import seaborn as sns\n",
        "import pandas as pd\n",
        "import numpy as np\n",
        "from torchtext.vocab import GloVe\n",
        "from sklearn.model_selection import train_test_split\n",
        "\n",
        "from sklearn import metrics\n",
        "from sklearn.linear_model import LogisticRegression\n",
        "from sklearn.metrics import classification_report\n",
        "\n",
        "from sklearn.metrics import precision_recall_fscore_support\n",
        "from sklearn.metrics import accuracy_score\n",
        "from sklearn.metrics import confusion_matrix\n",
        "import matplotlib\n",
        "import matplotlib.pyplot as plt\n",
        "import requests, io, zipfile"
      ],
      "execution_count": null,
      "outputs": []
    },
    {
      "cell_type": "code",
      "metadata": {
        "colab": {
          "base_uri": "https://localhost:8080/"
        },
        "id": "HAgWtVToXnMX",
        "outputId": "96cba973-bc07-4c8c-9779-f2780f249444"
      },
      "source": [
        "VEC_SIZE = 300\n",
        "glove = GloVe(name='6B', dim=VEC_SIZE)\n",
        "\n",
        "# Returns word vector for word if it exists, else return None.\n",
        "def get_word_vector(word):\n",
        "    try:\n",
        "      return glove.vectors[glove.stoi[word.lower()]].numpy()\n",
        "    except KeyError:\n",
        "      return None"
      ],
      "execution_count": null,
      "outputs": [
        {
          "output_type": "stream",
          "text": [
            ".vector_cache/glove.6B.zip: 862MB [02:42, 5.30MB/s]                           \n",
            "100%|█████████▉| 399072/400000 [00:42<00:00, 9463.94it/s]"
          ],
          "name": "stderr"
        }
      ]
    },
    {
      "cell_type": "code",
      "metadata": {
        "colab": {
          "base_uri": "https://localhost:8080/"
        },
        "id": "SQNuA-ZKZ2nt",
        "outputId": "4fec7288-7933-4fb6-aa16-67d3b65ae974"
      },
      "source": [
        "#@title testing the cool word simularity machine { run: \"auto\", display-mode: \"both\" }\n",
        "\n",
        "def cosine_similarity(vec1, vec2):    \n",
        "  return np.dot(vec1, vec2) / (np.linalg.norm(vec1) * np.linalg.norm(vec2))\n",
        "\n",
        "word1 = \"ethnicity\" #@param {type:\"string\"}\n",
        "word2 = \"potatoes\" #@param {type:\"string\"}\n",
        "\n",
        "print('Word 1:', word1)\n",
        "print('Word 2:', word2)\n",
        "\n",
        "def cosine_similarity_of_words(word1, word2):\n",
        "  vec1 = get_word_vector(word1)\n",
        "  vec2 = get_word_vector(word2)\n",
        "  \n",
        "  if vec1 is None:\n",
        "    print(word1, 'is not a valid word. Try another.')\n",
        "  if vec2 is None:\n",
        "    print(word2, 'is not a valid word. Try another.')\n",
        "  if vec1 is None or vec2 is None:\n",
        "    return None\n",
        "  \n",
        "  return cosine_similarity(vec1, vec2)\n",
        "  \n",
        "\n",
        "print('\\nCosine similarity:', cosine_similarity_of_words(word1, word2))"
      ],
      "execution_count": null,
      "outputs": [
        {
          "output_type": "stream",
          "text": [
            "Word 1: ethnicity\n",
            "Word 2: potatoes\n",
            "\n",
            "Cosine similarity: 0.01731634\n",
            "INPUT: I am a 15-yrs old asian teen, play minecraft, and love biking\n",
            "OUTPUT: I am a 15-yrs old !$%^@!$!^% teen, play minecraft, and love biking\n"
          ],
          "name": "stdout"
        }
      ]
    },
    {
      "cell_type": "code",
      "metadata": {
        "id": "rsgXlC0Kds83"
      },
      "source": [
        "def getBioVector(bio):\n",
        "  bio=bio.strip()\n",
        "  found_words=0.0\n",
        "  X=np.zeros(VEC_SIZE)\n",
        "  for word in bio.split():  \n",
        "    vec = get_word_vector(word)\n",
        "    if vec is not None:\n",
        "        found_words += 1\n",
        "        X += vec\n",
        "  if found_words > 0:\n",
        "        X /= found_words\n",
        "  return X\n",
        "def getBioScore(bio1, bio2):\n",
        "  return cosine_similarity(getBioVector(bio1), getBioVector(bio2))\n",
        "\n",
        "bio1 = \"I play minecarft and click quickly on kids\" #@param {type:\"string\"}\n",
        "bio2 = \"I am such an environmentalist\" #@param {type:\"string\"}\n",
        "\n",
        "print('Bio 1:', bio1)\n",
        "print('Bio 2:', bio2)\n",
        "print('\\nCosine similarity:', getBioScore(bio1, bio2))\n"
      ],
      "execution_count": null,
      "outputs": []
    },
    {
      "cell_type": "code",
      "metadata": {
        "colab": {
          "base_uri": "https://localhost:8080/"
        },
        "id": "jksUQtn-iPXT",
        "outputId": "7e298dfb-8012-48b8-e780-525aa2a11252"
      },
      "source": [
        "\n",
        "def bestMatches(person, lim):\n",
        "  matches=[]\n",
        "  for i in range(len(df)):\n",
        "    if(i!=person):\n",
        "      if(abs(df['Age'][i]-df['Age'][person]) <= 2 and df['Gender'][i]!=df['Gender'][person]):\n",
        "        matches.append([getBioScore(df['Bios'][i], df['Bios'][person]), i] )\n",
        "  matches.sort(reverse=True)\n",
        "  for i in range(min(lim, len(matches))):\n",
        "    print(matches[i][1], df['Bios'][matches[i][1]])\n",
        "\n",
        "print(\"THIS GUY MATCHES WITH:\", df['Bios'][0])\n",
        "\n",
        "bestMatches(0, 5)"
      ],
      "execution_count": null,
      "outputs": [
        {
          "output_type": "stream",
          "text": [
            "THIS GUY MATCHES WITH: Beer specialist. Wannabe alcoholaholic. Prone to fits of apathy. Infuriatingly humble twitter evangelist. Evil writer. Tv geek.\n",
            "479 Typical beer junkie. Tv fan. Prone to fits of apathy. Twitter ninja. Web fanatic. Amateur writer.\n",
            "326 Food evangelist. Organizer. Unapologetic music buff. Prone to fits of apathy. Infuriatingly humble tvaholic.\n",
            "453 Proud student. Writer. Web practitioner. Thinker. Friendly beer guru. Infuriatingly humble twitter enthusiast. Social media lover.\n",
            "548 Twitter specialist. Extreme entrepreneur. Communicator. Evil student. Professional beer junkie.\n",
            "261 Professional pop culture guru. Lifelong tv fan. Proud travel fanatic. Prone to fits of apathy.\n"
          ],
          "name": "stdout"
        }
      ]
    }
  ]
}